{
 "cells": [
  {
   "cell_type": "markdown",
   "metadata": {},
   "source": [
    "# Bradley University "
   ]
  },
  {
   "cell_type": "markdown",
   "metadata": {},
   "source": [
    "Introduction Into Reinforcement Learning\n",
    "\n",
    "12/11/2019\n",
    "\n",
    "Chance Emanuels"
   ]
  },
  {
   "cell_type": "code",
   "execution_count": 1,
   "metadata": {},
   "outputs": [],
   "source": [
    "# Source: OpenAI Gym\n",
    "# http://gym.openai.com/docs/\n",
    "\n",
    "# Classic \"Agent-Environment loop\" #####################################################################################################\n",
    "# Each time step, the agent chooses an action, and the environment returns an obervation and a reward. ################################\n",
    "\n",
    "# Observations\n",
    "# the enviroment's step function returns exactly what we need. \n",
    "# 1. Observation (Object): an environment-specific object representing your obervation of the enviroment\n",
    "    # Example: Pixel data from a camera, joint angles and joint velocities of a robot, or the board state in a board game\n",
    "# 2. Reward (Float): Amount of reward achieved by the previous action. The scale varies between environments\n",
    "    # The goal is to always increase the total reward\n",
    "# 3. Done (Boolean): Reset the environment again. \n",
    "    # most (not all) task are divied up into well-defined episodes, and done being true indicates the episode\n",
    "    # that has been terminated. \n",
    "# 4. info (dict): diagnostic information useful for debugging. It can sometimes be useful for learning \n",
    "    # (for example, it might contain the raw probabilities behind the environment’s last state change).\n",
    "    # However, official evaluations of your agent are not allowed to use this for learning.\n",
    "\n",
    "    "
   ]
  },
  {
   "cell_type": "code",
   "execution_count": 5,
   "metadata": {},
   "outputs": [
    {
     "name": "stdout",
     "output_type": "stream",
     "text": [
      "Episode 39/40 finished after 15 timesteps"
     ]
    }
   ],
   "source": [
    "import gym\n",
    "\n",
    "env = gym.make('CartPole-v0')\n",
    "cum_reward = 0\n",
    "frames = []\n",
    "num_episodes=40\n",
    "for i_episode in range(num_episodes):\n",
    "    observation = env.reset()\n",
    "    for t in range(500):\n",
    "        # Render into buffer.\n",
    "        frames.append(env.render(mode = 'rgb_array'))\n",
    "        action = env.action_space.sample() # Random Action\n",
    "        observation, reward, done, info = env.step(action)\n",
    "        \n",
    "        if done:\n",
    "            print(\"\\rEpisode {}/{} finished after {} timesteps\".format(i_episode, num_episodes, t+1), end=\"\")\n",
    "            break\n",
    "            env = gym.wrappers.Monitor(env, './video/',video_callable=lambda episode_id: True,force = True)\n",
    "env.close()"
   ]
  },
  {
   "cell_type": "code",
   "execution_count": 4,
   "metadata": {},
   "outputs": [],
   "source": []
  },
  {
   "cell_type": "code",
   "execution_count": null,
   "metadata": {},
   "outputs": [],
   "source": []
  }
 ],
 "metadata": {
  "kernelspec": {
   "display_name": "Python 3",
   "language": "python",
   "name": "python3"
  },
  "language_info": {
   "codemirror_mode": {
    "name": "ipython",
    "version": 3
   },
   "file_extension": ".py",
   "mimetype": "text/x-python",
   "name": "python",
   "nbconvert_exporter": "python",
   "pygments_lexer": "ipython3",
   "version": "3.7.5"
  }
 },
 "nbformat": 4,
 "nbformat_minor": 4
}
