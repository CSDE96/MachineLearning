{
 "cells": [
  {
   "cell_type": "code",
   "execution_count": 3,
   "metadata": {},
   "outputs": [],
   "source": [
    "import pandas as pd\n",
    "import gspread\n",
    "import numpy as np\n",
    "import tensorflow as tf\n",
    "import pandas as pd\n",
    "import numpy as np\n",
    "import matplotlib.pyplot as plt\n",
    "from oauth2client.service_account import ServiceAccountCredentials\n"
   ]
  },
  {
   "cell_type": "code",
   "execution_count": 4,
   "metadata": {},
   "outputs": [],
   "source": [
    "    scope = ['https://spreadsheets.google.com/feeds']\n",
    "    credentials = ServiceAccountCredentials.from_json_keyfile_name('DataAcquisition-1344753247c5.json', scope)\n",
    "    gc = gspread.authorize(credentials)"
   ]
  },
  {
   "cell_type": "code",
   "execution_count": 5,
   "metadata": {},
   "outputs": [],
   "source": [
    "spreadsheet_key = '1zL_ZghzuLwb8IS1SDKvBeApeYf3YO3Z-tKtM1kWk5bs'\n",
    "book = gc.open_by_key(spreadsheet_key)\n",
    "worksheet = book.worksheet(\"input\")\n",
    "table = worksheet.get_all_values()"
   ]
  },
  {
   "cell_type": "code",
   "execution_count": 6,
   "metadata": {},
   "outputs": [
    {
     "name": "stdout",
     "output_type": "stream",
     "text": [
      "    x1  x2  x3\n",
      "0    1   2   1\n",
      "1    1   1   2\n",
      "2    2   2   1\n",
      "3    2   2   1\n",
      "4    1   1   1\n",
      "5    2   1   2\n",
      "6    1   2   2\n",
      "7    2   1   1\n",
      "8    2   2   2\n",
      "9    1   1   1\n",
      "10   2   1   2\n",
      "11   1   2   1\n",
      "12   1   1   2\n",
      "13   2   2   2\n",
      "14   1   1   1\n",
      "15   1   1   2\n",
      "16   2   2   1\n",
      "17   1   2   2\n",
      "18   1   1   2\n",
      "19   2   2   2\n",
      "20   1   1   1\n",
      "21   2   1   2\n",
      "22   1   2   1\n",
      "23   1   1   1\n",
      "24   2   2   2\n",
      "25   1   2   1\n",
      "26   1   1   1\n",
      "27   1   2   2\n",
      "28   2   1   2\n",
      "29   2   2   1\n",
      "30   2   2   1\n",
      "31   2   1   2\n",
      "32   2   2   2\n",
      "33   2   1   1\n",
      "34   2   1   1\n",
      "35   2   2   2\n",
      "36   1   1   1\n",
      "37   1   2   2\n",
      "38   1   1   1\n",
      "39   1   1   1\n",
      "40   2   2   2\n",
      "41   1   2   1\n",
      "42   2   1   2\n",
      "43   1   2   1\n"
     ]
    }
   ],
   "source": [
    "##Convert table data into a dataframe\n",
    "df = pd.DataFrame(table[1:], columns=table[0])\n",
    "    \n",
    "##Only keep columns we need\n",
    "df = df[['x1', 'x2', 'x3']]\n",
    "    \n",
    "##Convert number strings to floats and ints\n",
    "df = df.apply(pd.to_numeric, errors='ignore')\n",
    "df.head()\n",
    "inputData = df\n",
    "print(inputData)"
   ]
  },
  {
   "cell_type": "code",
   "execution_count": 7,
   "metadata": {},
   "outputs": [
    {
     "name": "stdout",
     "output_type": "stream",
     "text": [
      "[[1 2 1]\n",
      " [1 1 2]\n",
      " [2 2 1]\n",
      " [2 2 1]\n",
      " [1 1 1]\n",
      " [2 1 2]\n",
      " [1 2 2]\n",
      " [2 1 1]\n",
      " [2 2 2]\n",
      " [1 1 1]\n",
      " [2 1 2]\n",
      " [1 2 1]\n",
      " [1 1 2]\n",
      " [2 2 2]\n",
      " [1 1 1]\n",
      " [1 1 2]\n",
      " [2 2 1]\n",
      " [1 2 2]\n",
      " [1 1 2]\n",
      " [2 2 2]\n",
      " [1 1 1]\n",
      " [2 1 2]\n",
      " [1 2 1]\n",
      " [1 1 1]\n",
      " [2 2 2]\n",
      " [1 2 1]\n",
      " [1 1 1]\n",
      " [1 2 2]\n",
      " [2 1 2]\n",
      " [2 2 1]\n",
      " [2 2 1]\n",
      " [2 1 2]\n",
      " [2 2 2]\n",
      " [2 1 1]\n",
      " [2 1 1]\n",
      " [2 2 2]\n",
      " [1 1 1]\n",
      " [1 2 2]\n",
      " [1 1 1]\n",
      " [1 1 1]\n",
      " [2 2 2]\n",
      " [1 2 1]\n",
      " [2 1 2]\n",
      " [1 2 1]]\n"
     ]
    }
   ],
   "source": [
    "n_inputs = 2 # input vector dimension\n",
    "n_nodes_hidden_layer_1 = 3 # number of nodes in hidden layer 1\n",
    "n_nodes_hidden_layer_2 = 3 # number of nodes in hidden layer 2\n",
    "n_nodes_hidden_layer_3 = 3 # number of nodes in hidden layer 3\n",
    "n_nodes_hidden_layer_4 = 3 # number of nodes in hidden layer 4\n",
    "\n",
    "n_output_classes = 1 # number of output classes\n",
    "numOfepochs = 200\n",
    "inputData = np.array(inputData)\n",
    "print(inputData)"
   ]
  },
  {
   "cell_type": "code",
   "execution_count": 8,
   "metadata": {},
   "outputs": [
    {
     "ename": "AttributeError",
     "evalue": "module 'tensorflow' has no attribute 'placeholder'",
     "output_type": "error",
     "traceback": [
      "\u001b[1;31m---------------------------------------------------------------------------\u001b[0m",
      "\u001b[1;31mAttributeError\u001b[0m                            Traceback (most recent call last)",
      "\u001b[1;32m<ipython-input-8-45589507efbc>\u001b[0m in \u001b[0;36m<module>\u001b[1;34m\u001b[0m\n\u001b[0;32m      8\u001b[0m \u001b[1;33m\u001b[0m\u001b[0m\n\u001b[0;32m      9\u001b[0m \u001b[1;31m# define placeholder for features, labels hypothesis (output)\u001b[0m\u001b[1;33m\u001b[0m\u001b[1;33m\u001b[0m\u001b[1;33m\u001b[0m\u001b[0m\n\u001b[1;32m---> 10\u001b[1;33m \u001b[0mxt\u001b[0m \u001b[1;33m=\u001b[0m \u001b[0mtf\u001b[0m\u001b[1;33m.\u001b[0m\u001b[0mplaceholder\u001b[0m\u001b[1;33m(\u001b[0m\u001b[1;34m'float'\u001b[0m\u001b[1;33m,\u001b[0m \u001b[0mshape\u001b[0m\u001b[1;33m=\u001b[0m\u001b[1;33m[\u001b[0m\u001b[1;36m38\u001b[0m\u001b[1;33m,\u001b[0m\u001b[1;36m2\u001b[0m\u001b[1;33m]\u001b[0m\u001b[1;33m)\u001b[0m\u001b[1;33m\u001b[0m\u001b[1;33m\u001b[0m\u001b[0m\n\u001b[0m\u001b[0;32m     11\u001b[0m \u001b[0my\u001b[0m \u001b[1;33m=\u001b[0m \u001b[0mtf\u001b[0m\u001b[1;33m.\u001b[0m\u001b[0mplaceholder\u001b[0m\u001b[1;33m(\u001b[0m\u001b[1;34m'float'\u001b[0m\u001b[1;33m,\u001b[0m \u001b[0mshape\u001b[0m\u001b[1;33m=\u001b[0m\u001b[1;33m[\u001b[0m\u001b[1;36m38\u001b[0m\u001b[1;33m,\u001b[0m\u001b[1;36m1\u001b[0m\u001b[1;33m]\u001b[0m\u001b[1;33m)\u001b[0m\u001b[1;33m\u001b[0m\u001b[1;33m\u001b[0m\u001b[0m\n\u001b[0;32m     12\u001b[0m \u001b[0mh\u001b[0m \u001b[1;33m=\u001b[0m \u001b[0mtf\u001b[0m\u001b[1;33m.\u001b[0m\u001b[0mplaceholder\u001b[0m\u001b[1;33m(\u001b[0m\u001b[1;34m'float'\u001b[0m\u001b[1;33m,\u001b[0m \u001b[0mshape\u001b[0m\u001b[1;33m=\u001b[0m\u001b[1;33m[\u001b[0m\u001b[1;36m38\u001b[0m\u001b[1;33m,\u001b[0m\u001b[1;36m1\u001b[0m\u001b[1;33m]\u001b[0m\u001b[1;33m)\u001b[0m\u001b[1;33m\u001b[0m\u001b[1;33m\u001b[0m\u001b[0m\n",
      "\u001b[1;31mAttributeError\u001b[0m: module 'tensorflow' has no attribute 'placeholder'"
     ]
    }
   ],
   "source": [
    "def input_evaluation_set(inputData):\n",
    "    x = inputData[:, 0:2]\n",
    "    y = inputData[:, 2:3]\n",
    "    features = x\n",
    "    labels = y\n",
    "    return features, labels\n",
    "\n",
    "\n",
    "# define placeholder for features, labels hypothesis (output)\n",
    "xt = tf.placeholder('float', shape=[38,2])\n",
    "y = tf.placeholder('float', shape=[38,1])\n",
    "h = tf.placeholder('float', shape=[38,1])"
   ]
  },
  {
   "cell_type": "code",
   "execution_count": 11,
   "metadata": {},
   "outputs": [],
   "source": [
    "# Define Neural Network Architecture \n",
    "def my_neural_network(xt): # creating a neural network\n",
    "    \n",
    "    hidden_layer_1 = {'theta1' :tf.Variable(tf.random_normal([n_inputs, n_nodes_hidden_layer_1])),\n",
    "                      'biases1' :tf.Variable(tf.random_normal([n_nodes_hidden_layer_1]))}\n",
    "    \n",
    "    hidden_layer_2 = {'theta2' :tf.Variable(tf.random_normal([n_nodes_hidden_layer_1, n_nodes_hidden_layer_2])),\n",
    "                      'biases2' :tf.Variable(tf.random_normal([n_nodes_hidden_layer_2]))}\n",
    "    \n",
    "    hidden_layer_3 = {'theta3' :tf.Variable(tf.random_normal([n_nodes_hidden_layer_2, n_nodes_hidden_layer_3])),\n",
    "                      'biases3' :tf.Variable(tf.random_normal([n_nodes_hidden_layer_3]))}\n",
    "    \n",
    "    hidden_layer_4 = {'theta4' :tf.Variable(tf.random_normal([n_nodes_hidden_layer_3, n_nodes_hidden_layer_4])),\n",
    "                      'biases4' :tf.Variable(tf.random_normal([n_nodes_hidden_layer_4]))}\n",
    "    output_layer = {'theta4' :tf.Variable(tf.random_normal([n_nodes_hidden_layer_4, n_output_classes])),\n",
    "                    'biases4' :tf.Variable(tf.random_normal([n_output_classes])),}\n",
    "    \n",
    "    # thetas are the weights and biases are the threshold\n",
    "    # repeat mechanics of the hidden layers until hypthosis has gobal minium error\n",
    "    # feedforward\n",
    "    z2 = tf.add(tf.matmul(xt, hidden_layer_1['theta1']), hidden_layer_1['biases1'])\n",
    "    a2 = tf.sigmoid(z2)\n",
    "    \n",
    "    z3 = tf.add(tf.matmul(a2, hidden_layer_2['theta2']), hidden_layer_2['biases2'])\n",
    "    a3 = tf.sigmoid(z2)\n",
    "    \n",
    "    z4 = tf.add(tf.matmul(a3, hidden_layer_3['theta3']), hidden_layer_3['biases3'])\n",
    "    a4 = tf.sigmoid(z2)\n",
    "    \n",
    "    z5 = tf.add(tf.matmul(a4, hidden_layer_4['theta4']), hidden_layer_4['biases4'])\n",
    "    a5 = tf.sigmoid(z2)\n",
    "    \n",
    "    z5 = tf.matmul(a5, output_layer['theta4']) + output_layer['biases4']\n",
    "    h = tf.sigmoid(z5)\n",
    "    \n",
    "    return h"
   ]
  },
  {
   "cell_type": "code",
   "execution_count": 12,
   "metadata": {},
   "outputs": [],
   "source": [
    "h = my_neural_network(xt)\n",
    "cost = tf.reduce_mean(((y* tf.log(h)) + ((1-y) * tf.log(1.0-h))) * -1)\n",
    "optimizer = tf.train.GradientDescentOptimizer(.01).minimize(cost)"
   ]
  },
  {
   "cell_type": "code",
   "execution_count": 20,
   "metadata": {},
   "outputs": [
    {
     "name": "stdout",
     "output_type": "stream",
     "text": [
      "Epoch: 0 loss= 0.80288076\n",
      "hypothesis [[0.3725611 ]\n",
      " [0.47810045]\n",
      " [0.50480866]\n",
      " [0.50480866]\n",
      " [0.47810045]\n",
      " [0.5450731 ]\n",
      " [0.3725611 ]\n",
      " [0.5450731 ]\n",
      " [0.50480866]\n",
      " [0.47810045]\n",
      " [0.5450731 ]\n",
      " [0.3725611 ]\n",
      " [0.47810045]\n",
      " [0.50480866]\n",
      " [0.47810045]\n",
      " [0.47810045]\n",
      " [0.50480866]\n",
      " [0.3725611 ]\n",
      " [0.47810045]\n",
      " [0.50480866]\n",
      " [0.47810045]\n",
      " [0.5450731 ]\n",
      " [0.3725611 ]\n",
      " [0.47810045]\n",
      " [0.50480866]\n",
      " [0.3725611 ]\n",
      " [0.47810045]\n",
      " [0.3725611 ]\n",
      " [0.5450731 ]\n",
      " [0.50480866]\n",
      " [0.50480866]\n",
      " [0.5450731 ]\n",
      " [0.50480866]\n",
      " [0.5450731 ]\n",
      " [0.5450731 ]\n",
      " [0.50480866]\n",
      " [0.47810045]\n",
      " [0.3725611 ]]\n"
     ]
    }
   ],
   "source": [
    "with tf.Session() as sess:\n",
    "    sess.run(tf.global_variables_initializer())\n",
    "    writer = tf.summary.FileWriter(\"logs\", sess.graph)\n",
    "    \n",
    "    for epoch in range(numOfepochs):\n",
    "        x_,y_ = input_evaluation_set(inputData)\n",
    "        _, loss = sess.run([optimizer, cost], feed_dict={xt: x_.tolist(), y:y_.tolist()})\n",
    "        if epoch % 1000 == 0:\n",
    "            print ('Epoch:', epoch, 'loss=', loss)\n",
    "            print('hypothesis', sess.run(h, feed_dict={xt: x_.tolist(), y:y_.tolist()}))\n",
    "            h_final = h > .05\n",
    "            \n",
    "            if (loss <.05):\n",
    "                break"
   ]
  },
  {
   "cell_type": "code",
   "execution_count": null,
   "metadata": {},
   "outputs": [],
   "source": []
  }
 ],
 "metadata": {
  "kernelspec": {
   "display_name": "Python 3",
   "language": "python",
   "name": "python3"
  },
  "language_info": {
   "codemirror_mode": {
    "name": "ipython",
    "version": 3
   },
   "file_extension": ".py",
   "mimetype": "text/x-python",
   "name": "python",
   "nbconvert_exporter": "python",
   "pygments_lexer": "ipython3",
   "version": "3.7.4"
  }
 },
 "nbformat": 4,
 "nbformat_minor": 4
}
