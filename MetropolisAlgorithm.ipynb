{
 "cells": [
  {
   "cell_type": "markdown",
   "metadata": {},
   "source": [
    "# MARKOV CHAIN MONTE CARLO METHODS FOR SAMPLING\n",
    "By Chance Emanuels\n",
    "\n",
    "11/14/2019\n",
    "\n",
    "Bradley University\n",
    "\n"
   ]
  },
  {
   "cell_type": "markdown",
   "metadata": {},
   "source": [
    "Source: https://drive.google.com/file/d/1SdypuEITjY8fBmSJNtkJ09SVeBPJWY15/view\n",
    "\n",
    "Source: https://towardsdatascience.com/mcmc-intuition-for-everyone-5ae79fff22b1\n",
    "\n",
    "Source: https://towardsdatascience.com/from-scratch-bayesian-inference-markov-chain-monte-carlo-and-metropolis-hastings-in-python-ef21a29e25a\n",
    "\n",
    "Source: http://heather.cs.ucdavis.edu/~matloff/LaTeX/Markov.tex\n"
   ]
  },
  {
   "cell_type": "markdown",
   "metadata": {},
   "source": [
    "## Purpose is to try to compute the area under a curve based on sampled points. \n",
    "Most Popular technique for sampling from complicated posterior probability distributions (in general = any probability distribution for multi-variate data)\n",
    "\n",
    "* Markov Propery: Given a process which is at state \"Xn\" at a particular point of time, the probability of Xn+1 = k, Where K is any of the M states the process can jump to, will only be dependent on which state it is at the given moment. \n",
    "\n",
    " "
   ]
  },
  {
   "cell_type": "markdown",
   "metadata": {},
   "source": [
    "In Application: Long-run distribution \n",
    "    \\begin{equation}\n",
    "\\label{limnt}\n",
    "\\pi_{i}=\\lim_{t\\rightarrow \\infty }\\frac{N_{it}}{t}\n",
    "\\end{equation}\n",
    "* long-run proportion of the time that we are at position for each state i, define\n",
    "* where $N_{it}$ is the number of visits the process makes to state i among times 1, 2,..., t."
   ]
  },
  {
   "cell_type": "markdown",
   "metadata": {},
   "source": [
    "Stationary Distribution:\n",
    "\\begin{equation}\n",
    "\\label{limxt}\n",
    "\\lim_{t\\rightarrow \\infty }P(X_{t}=i)=\\pi_{i}\n",
    "\\end{equation}\n",
    "\n",
    "* Practically speaking, this proportion will exist and be independent of our initial position $X_{0}$.\n",
    "* The $\\pi_i$ are called the {\\bf steady-state probabilities}, or the {\\bf stationary distribution} of the Markov chain."
   ]
  },
  {
   "cell_type": "markdown",
   "metadata": {},
   "source": [
    "Steady-state: as t approaches infinity\n",
    "    \\begin{equation}\n",
    "\\label{limxt}\n",
    "\\lim_{t\\rightarrow \\infty }P(X_{t}=i)=\\pi_{i}\n",
    "\\end{equation}"
   ]
  },
  {
   "cell_type": "markdown",
   "metadata": {},
   "source": [
    "Example: \n",
    "\n",
    "Area of the transcendental number $\\pi$ can be computed by sampling points within a square of radius 1 and noting down the number of sampled points within one-fourth of the circle of diameter 2 enclosed within the sqaure. "
   ]
  },
  {
   "cell_type": "markdown",
   "metadata": {},
   "source": [
    "$$4* \\frac{Area (OAC)}{Area (OABC)}= 4* \\frac{\\frac{1}{4}*\\pi*r^2}{r^2}$$"
   ]
  },
  {
   "cell_type": "code",
   "execution_count": 1,
   "metadata": {},
   "outputs": [
    {
     "name": "stdout",
     "output_type": "stream",
     "text": [
      " the computed value of Pi:  3.14205\n"
     ]
    }
   ],
   "source": [
    "# Compuation of Pi through Monte Carlo Sampling\n",
    "import numpy as np\n",
    "number_sample = 10000000\n",
    "inner_area, outer_area = 0,0 \n",
    "for i in range(number_sample):\n",
    "    x = np.random.uniform(0,1)\n",
    "    y = np.random.uniform(0 ,1)\n",
    "    if (x**2 + y**2) < 1 :\n",
    "        inner_area += 1\n",
    "    outer_area += 1\n",
    "print( \" the computed value of Pi: \", 4*(inner_area/float(outer_area)))\n"
   ]
  },
  {
   "cell_type": "markdown",
   "metadata": {},
   "source": [
    " Simple Monte Carlo Method is highly inefficient if the dimension space is large since the larger the dimensionality is the more prominent the effects of Correlation\n",
    "    "
   ]
  },
  {
   "cell_type": "code",
   "execution_count": 2,
   "metadata": {},
   "outputs": [],
   "source": [
    "# the main heuristic behind the Markov Chain Monte Carlo Method is to explore the probability space, because of correlation\n",
    "# most of the space is sparse, with high density found only at specific areas. \n",
    "# Conclusion: Spend more time and collect more samples from those high-probabilty zones and spend as little time as possible exploring low-probabilty zones"
   ]
  },
  {
   "cell_type": "markdown",
   "metadata": {},
   "source": [
    "## Markov Chain Description\n",
    "1. Thought of as a stochastic/random process to generate a sequence of random samples evolving over time.\n",
    "2. Once the chain enters a high-probability zone, it tries to collect as many points with a high-probability density as possible\n",
    "3. This is done by generating the next sample,  conditioned on the current\n",
    "sample value, so that points near the current sample are chosen with high probability and points far away\n",
    "are chosen with low probability\n",
    "4. step 3 ensures the MC collects as many points as possible from the HP zone\n"
   ]
  },
  {
   "cell_type": "markdown",
   "metadata": {},
   "source": [
    "# Metropolis Algorithm \n",
    "Another Markov Chain Monte Carlo method\n",
    "\n",
    "    1. uses the current accepted state to determine the next state.\n",
    "    2. At Sampling time: (t + 1) is conditionally dependent upon the sample at time t.\n",
    "    3. The proposed sate at time (t+1) is drawn from the normal distribution with a mean equal to the current sample at time t with a specified variance. \n",
    "    4. the Ratio of the probability is checked between the sample at time (t+1) and at time t."
   ]
  },
  {
   "cell_type": "code",
   "execution_count": 3,
   "metadata": {},
   "outputs": [],
   "source": [
    "import numpy as np\n",
    "import matplotlib.pyplot as plt\n",
    "# Markov Chain Monte Carol Methods called Metropolis\n",
    "# transition probabilities would follow normal distribution \n",
    "import time\n",
    "start_time = time.time()\n"
   ]
  },
  {
   "cell_type": "code",
   "execution_count": 4,
   "metadata": {},
   "outputs": [],
   "source": [
    "# set up constants and initial varibale conditons\n",
    "num_samples=100000\n",
    "pro_density = 0\n",
    "# plan is to sample from a bivariate gaussian distibution with mean (0,0) and covariance of .7 between two variables\n",
    "mean = np.array([0,0])\n",
    "cov = np.array([[1,.07],[.7,1]])\n",
    "cov1 = np.matrix(cov)\n",
    "mean1 = np.matrix(mean)\n",
    "x_list, y_list = [], []\n",
    "accepted_samples_count = 0\n",
    "## normalizer of the probability distribution \n",
    "normalizer = np.sqrt(((2*np.pi)**2)*np.linalg.det(cov))\n",
    "# start with initial point (0,0)\n",
    "x_initial, y_initial = 0,0\n",
    "x1, y1 = x_initial, y_initial"
   ]
  },
  {
   "cell_type": "code",
   "execution_count": 5,
   "metadata": {},
   "outputs": [
    {
     "name": "stdout",
     "output_type": "stream",
     "text": [
      "Time taken to sample 77968 points ==> 19.008643865585327 seconds\n",
      "Acceptance ratio ===>  0.77968\n",
      "Mean of the Sampled Points\n",
      "0.007459836909931656 0.015025694037497374\n",
      "Covariance matrix of the Sampled Points\n",
      "[[1.05114384 0.41910478]\n",
      " [0.41910478 1.05024935]]\n"
     ]
    },
    {
     "data": {
      "image/png": "[encoded data removed]",
      "text/plain": [
       "<Figure size 432x288 with 1 Axes>"
      ]
     },
     "metadata": {
      "needs_background": "light"
     },
     "output_type": "display_data"
    }
   ],
   "source": [
    "for i in range(num_samples):\n",
    "    # set up conditional prob dis, taking the existing point\n",
    "    # as the mean and a small variance = .2 so that points near the exisitng point\n",
    "    # high chance of getting sampled\n",
    "    mean_trans = np.array([x1,y1])\n",
    "    cov_trans = np.array([[.2,0], [0,.2]])\n",
    "    x2, y2 = np.random.multivariate_normal(mean_trans, cov_trans).T\n",
    "    X = np.array([x2,y2])\n",
    "    X1 = np.matrix(mean_trans)\n",
    "    X2 = np.matrix(X)\n",
    "    # compute the probability density of the existing point and the new sampled point\n",
    "    mahalnobix_dist2 = (X2 - mean1)*np.linalg.inv(cov)*(X2 - mean1).T\n",
    "    prob_density2 = (1/float(normalizer))*np.exp(-0.5*mahalnobix_dist2)\n",
    "    mahalnobis_dist1 = (X1 - mean1)*np.linalg.inv(cov)*(X1 - mean1).T\n",
    "    prob_density1 = (1/float(normalizer))*np.exp(-0.5*mahalnobis_dist1)\n",
    "    # <3 of algorithm\n",
    "        # COMPARING RATIO OF PROBABILITY DENSITY Of THE NEW\n",
    "    acceptance_ratio = prob_density2[0,0] / float(prob_density1[0,0])\n",
    "    \n",
    "    if (acceptance_ratio >= 1)  |  ((acceptance_ratio < 1) and (acceptance_ratio >= np.random.uniform(0,1))):\n",
    "        x_list.append(x2)\n",
    "        y_list.append(y2)\n",
    "        x1 = x2\n",
    "        y1 = y2\n",
    "        accepted_samples_count += 1\n",
    "    end_time = time.time()\n",
    "print ('Time taken to sample ' + str(accepted_samples_count) + ' points ==> ' + str(end_time -\n",
    "start_time) + ' seconds' )\n",
    "print('Acceptance ratio ===> ' , accepted_samples_count/float(100000))\n",
    "## Time to display the samples generated\n",
    "plt.xlabel('X')\n",
    "plt.ylabel('Y')\n",
    "plt.scatter(x_list,y_list,color='black')\n",
    "print(\"Mean of the Sampled Points\")\n",
    "print(np.mean(x_list),np.mean(y_list))\n",
    "print(\"Covariance matrix of the Sampled Points\")\n",
    "print(np.cov(x_list,y_list))\n",
    "        "
   ]
  }
 ],
 "metadata": {
  "kernelspec": {
   "display_name": "Python 3",
   "language": "python",
   "name": "python3"
  },
  "language_info": {
   "codemirror_mode": {
    "name": "ipython",
    "version": 3
   },
   "file_extension": ".py",
   "mimetype": "text/x-python",
   "name": "python",
   "nbconvert_exporter": "python",
   "pygments_lexer": "ipython3",
   "version": "3.7.1"
  }
 },
 "nbformat": 4,
 "nbformat_minor": 4
}
